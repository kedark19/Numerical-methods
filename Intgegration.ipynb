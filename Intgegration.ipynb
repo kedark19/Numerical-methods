{
 "cells": [
  {
   "cell_type": "markdown",
   "id": "90ac4d20-2a10-429d-a61c-f6c547c2d164",
   "metadata": {},
   "source": [
    "#  Numerical integration\n",
    "\n",
    "### For a continuous function f(x), integration between the point a and b is calculated by following methods:"
   ]
  },
  {
   "cell_type": "markdown",
   "id": "f8304249-f236-4c56-8a4d-4c0d9ee8cbf7",
   "metadata": {},
   "source": [
    "# 1. Trapezoid rule\n",
    "\n",
    "### \\begin{equation}  I \\approx \\frac{h}{2} (y_0 + y_1)  \\Rightarrow \\int_a^b f(x) dx= \\frac{h}{2}[f(a) + f(b) + 2 \\sum_{i=0}^{n-1}f(x_i)]   \\end{equation}\n",
    "\n",
    "### where, The interval [a, b] is divided into equally spaced grid: $a=x_0 < x_1 < x_2 < ... < x_{n-1} < x_n = b $ and $h=x_2 - x_1$. \n",
    "\n"
   ]
  },
  {
   "cell_type": "markdown",
   "id": "9b04ba1a-a13c-4186-b953-ec21b38d7dfd",
   "metadata": {},
   "source": [
    "# 2. Simpson's $\\frac{1}{3}$  rule\n",
    "\n",
    "### \\begin{equation} I \\approx \\frac{h}{3} (y_0 + 4y_1 + y_2)  \\Rightarrow \\int_a^b f(x) dx= \\frac{h}{3}[f(a) + f(b) + 4 \\sum_{i=0}^{n}f(x_{2i-1})+ 2 \\sum_{i=0}^{n-1}f(x_{2i})]  \\end{equation}\n",
    "\n",
    "### where, The interval [a, b] is divided into equally spaced grid: $a=x_0 < x_1 < x_2 < ... < x_{2n-2} < x_{2n-1} < x_{2n} = b $ and $h=x_2 - x_1$."
   ]
  },
  {
   "cell_type": "markdown",
   "id": "36c9b4fd-5849-4ee4-9b6c-e1d44e6aa361",
   "metadata": {},
   "source": [
    "# 3. Simpson's $\\frac{3}{8}$  rule\n",
    "\n",
    "### \\begin{equation}I \\approx \\frac{3h}{8} (y_0 + 3y_1 + 3y_2 + y_3) \\Rightarrow \\int_a^b f(x) dx= \\frac{3h}{8}[f(a) + f(b) + 3\\sum_{i=0}^{n}f(x_{3i-2}) + 3\\sum_{i=0}^{n}f(x_{3i-1}) + 2 \\sum_{i=0}^{n-1}f(x_{3i})] \\end{equation}\n",
    "\n",
    "### where, The interval [a, b] is divided into equally spaced grid: $a=x_0 < x_1 < x_2 < ... < x_{3n-2} < x_{3n-1} < x_{3n} = b $ and $h=x_2 - x_1$."
   ]
  },
  {
   "cell_type": "code",
   "execution_count": 63,
   "id": "06d48a87-fcd6-4a33-855d-788fc5d36caa",
   "metadata": {},
   "outputs": [
    {
     "name": "stdout",
     "output_type": "stream",
     "text": [
      "Integration: Trapezoid method        10.387102687900438\n",
      "Integration: Simpsons 1/3 method     10.53696635852189\n",
      "Integration: Simpsons 3/8 method     10.335425560099935\n",
      "Integration: Analytical value        10.335425560099939\n"
     ]
    }
   ],
   "source": [
    "#################################################\n",
    "####     Numerical Integration methods       ####\n",
    "#################################################\n",
    "import numpy as np\n",
    "\n",
    "### function definition\n",
    "def f(x):\n",
    "    return x*x \n",
    "   #return np.sin(x)*np.sin(x)\n",
    "\n",
    "## x-range from a to b\n",
    "a=0\n",
    "b=np.pi\n",
    "\n",
    "n=10     # number of points \n",
    "\n",
    "x1=np.linspace(a,b,n+1)\n",
    "x2=np.linspace(a,b,2*n+1)\n",
    "x3=np.linspace(a,b,3*n+1)\n",
    "\n",
    "h1=x1[1]-x1[0]   # step size\n",
    "h2=x2[1]-x2[0]\n",
    "h3=x3[1]-x3[0]\n",
    "\n",
    "I_trap = I_sim_13 = I_sim_38 = 0\n",
    "\n",
    "for i in range(1,n):                # till n-1 terms\n",
    "    I_trap = I_trap + 2*f(x1[i])                                          # Trapezoid method      \n",
    "    I_sim_13 = I_sim_13 + 4*f(x2[2*i-1]) + 2*f(x2[2*i])                   # Simpsons 1/3 method\n",
    "    I_sim_38 = I_sim_38 + 3*f(x3[3*i-2]) + 3*f(x3[3*i-1]) + 2*f(x3[3*i])  # Simpsons 3/8 method\n",
    "\n",
    "I_sim_13 = I_sim_13 +  4*f(x2[2*n])      #  for nth terms\n",
    "I_sim_38 = I_sim_38 +  3*f(x3[3*n-2]) + 3*f(x3[3*n-1])\n",
    "  \n",
    "I_trap=(I_trap + f(x1[0]) + f(x1[n]))*(h1/2)\n",
    "I_sim_13=(I_sim_13 + f(x2[0]) + f(x2[2*n]))*(h2/3)\n",
    "I_sim_38=(I_sim_38 + f(x3[0]) + f(x3[3*n]))*(3*h3/8)\n",
    "\n",
    "print('Integration: Trapezoid method       ',I_trap)\n",
    "print('Integration: Simpsons 1/3 method    ',I_sim_13)\n",
    "print('Integration: Simpsons 3/8 method    ',I_sim_38)\n",
    "print('Integration: Analytical value       ', (np.pi**3/3))¶\n",
    "# print('Integration: Analytical value       ', (np.pi* np.pi/2 +  np.pi/2))"
   ]
  },
  {
   "cell_type": "code",
   "execution_count": null,
   "id": "03e55516-f31a-4ad0-bed1-73797c595d34",
   "metadata": {},
   "outputs": [],
   "source": []
  }
 ],
 "metadata": {
  "kernelspec": {
   "display_name": "Python 3 (ipykernel)",
   "language": "python",
   "name": "python3"
  },
  "language_info": {
   "codemirror_mode": {
    "name": "ipython",
    "version": 3
   },
   "file_extension": ".py",
   "mimetype": "text/x-python",
   "name": "python",
   "nbconvert_exporter": "python",
   "pygments_lexer": "ipython3",
   "version": "3.10.12"
  }
 },
 "nbformat": 4,
 "nbformat_minor": 5
}
