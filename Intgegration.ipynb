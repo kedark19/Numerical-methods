{
 "cells": [
  {
   "cell_type": "markdown",
   "id": "285faa6f-19d4-4ba4-a197-f609ced2c023",
   "metadata": {},
   "source": [
    "# Simpson's 1/3 method"
   ]
  },
  {
   "cell_type": "code",
   "execution_count": 2,
   "id": "06d48a87-fcd6-4a33-855d-788fc5d36caa",
   "metadata": {},
   "outputs": [
    {
     "name": "stdout",
     "output_type": "stream",
     "text": [
      "Integration 1.832595714594049\n"
     ]
    }
   ],
   "source": [
    "#!usr/bin/env python3\n",
    "\n",
    "import math\n",
    "import numpy as np\n",
    "\n",
    "def f(x):\n",
    "   return math.sin(x)*math.sin(x)\n",
    "\n",
    "\n",
    "e=0\n",
    "b=math.pi\n",
    "m=100000\n",
    "\n",
    "s=0\n",
    "a=np.linspace(e,b,2*m+1)\n",
    "h=a[1]-a[0]\n",
    "# print(a)\n",
    "for i in range(m):\n",
    "  s=s+f(a[2*i])+4*f(a[2*i+1])+2*f(a[2*i+2])\n",
    "  \n",
    "df=(s*h)/3\n",
    "print('Integration',df)\n"
   ]
  },
  {
   "cell_type": "code",
   "execution_count": null,
   "id": "950810e1-8fbd-42f8-9f25-b51c191c339f",
   "metadata": {},
   "outputs": [],
   "source": []
  }
 ],
 "metadata": {
  "kernelspec": {
   "display_name": "Python 3 (ipykernel)",
   "language": "python",
   "name": "python3"
  },
  "language_info": {
   "codemirror_mode": {
    "name": "ipython",
    "version": 3
   },
   "file_extension": ".py",
   "mimetype": "text/x-python",
   "name": "python",
   "nbconvert_exporter": "python",
   "pygments_lexer": "ipython3",
   "version": "3.10.12"
  }
 },
 "nbformat": 4,
 "nbformat_minor": 5
}
