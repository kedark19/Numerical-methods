{
 "cells": [
  {
   "cell_type": "markdown",
   "id": "8e2cc162-afc4-452c-8d7a-5d68389c253c",
   "metadata": {},
   "source": [
    "## Root finding methods"
   ]
  },
  {
   "cell_type": "markdown",
   "id": "e2c6bb22-085c-4f26-97c4-4843114eabae",
   "metadata": {},
   "source": [
    "## 1. Bisection method: simple method"
   ]
  },
  {
   "cell_type": "code",
   "execution_count": 6,
   "id": "ccee7fed-9ae2-4b3c-b478-b24240baf489",
   "metadata": {},
   "outputs": [
    {
     "name": "stdout",
     "output_type": "stream",
     "text": [
      "Root:  1.8337509577213496 ; # of iterations:  39\n"
     ]
    }
   ],
   "source": [
    "#################################################\n",
    "####  bisection method to find root         ####\n",
    "#################################################\n",
    "### function\n",
    "def fn(x):\n",
    "    return x*x*x +x-8\n",
    "    # return x**3 - 2*x**2 + 4*x/3 - 8/27\n",
    "\n",
    "### interval (a, b) to find root \n",
    "a=0\n",
    "b=10\n",
    "\n",
    "c= (a+b)/2   # bisection\n",
    "iter=0       # iteration counter\n",
    "\n",
    "if fn(a)*fn(b) < 0:\n",
    "    while abs(fn(c)) > 1.0e-10:   # checking the precision \n",
    "        c= (a+b)/2\n",
    "        if fn(a)*fn(c) < 0:\n",
    "            b=c\n",
    "            iter=iter+1\n",
    "        else:   \n",
    "            a=c\n",
    "            iter=iter+1\n",
    "    root = c\n",
    "    print('Root: ',root,'; # of iterations: ', iter)\n",
    "else:\n",
    "    print('No root exit')"
   ]
  },
  {
   "cell_type": "markdown",
   "id": "ca0f1b64-b129-4f15-bd48-cb0d74b3494d",
   "metadata": {},
   "source": [
    "## 2. Newton's method"
   ]
  },
  {
   "cell_type": "code",
   "execution_count": 5,
   "id": "f9f39fba-1635-4b9b-9743-2120b7dbfcbd",
   "metadata": {},
   "outputs": [
    {
     "name": "stdout",
     "output_type": "stream",
     "text": [
      "Root:  0.6823278038280193 ; # of iterations :  6\n"
     ]
    }
   ],
   "source": [
    "#################################################\n",
    "####  Newton-Rapson method to find root      ####\n",
    "#################################################\n",
    "### function\n",
    "def fn(x):\n",
    "    return x**3+x-1\n",
    "### derivative of fn   \n",
    "def dfn(x):\n",
    "    return 3*x**2+1\n",
    "\n",
    "### interval (a, b) to find root\n",
    "a=0\n",
    "b=10\n",
    "\n",
    "iter=0       # iteration counter\n",
    "c=0.2        # initial guess point for tangent\n",
    "\n",
    "if fn(a)*fn(b) > 0:    # condition for root \n",
    "    print('no roots')\n",
    "else:\n",
    "    while abs(fn(c)) > 1.0e-12:\n",
    "        x=c-fn(c)/dfn(c)     # finding the x-intersect of tangent\n",
    "        iter=iter + 1\n",
    "        c=x\n",
    "print('Root: ', x,'; # of iterations : ',iter) "
   ]
  },
  {
   "cell_type": "markdown",
   "id": "133428f0-2fe3-41cd-8230-f1ad01746f11",
   "metadata": {},
   "source": [
    "## 3. Regula falsi method"
   ]
  },
  {
   "cell_type": "code",
   "execution_count": 11,
   "id": "a157134e-1c1d-44b9-b9ce-fca5687de8ea",
   "metadata": {},
   "outputs": [
    {
     "name": "stdout",
     "output_type": "stream",
     "text": [
      "Root:  0.6823236593852069 ; # of iterations :  1250\n"
     ]
    }
   ],
   "source": [
    "#################################################\n",
    "####     Regula falsi to find root          ####\n",
    "#################################################\n",
    "### function\n",
    "def fn(x):\n",
    "    return x**3+x-1\n",
    "\n",
    "### interval (a, b) to find root\n",
    "a=-1\n",
    "b=10\n",
    "\n",
    "iter=0       # iteration counter\n",
    "c=(a*fn(b)- b*fn(a) )/(fn(b) -fn(a))       # x-intercept \n",
    "\n",
    "if fn(a)*fn(b) > 0:    # condition for root \n",
    "    print('no roots')\n",
    "else:\n",
    "    while abs(fn(c)) > 1.0e-5:\n",
    "        c=(a*fn(b)- b*fn(a)*0.5 )/(fn(b) -fn(a)*0.5)       # x-intercept \n",
    "        a=c\n",
    "        iter=iter+1\n",
    "        \n",
    "print('Root: ', c,'; # of iterations : ',iter) "
   ]
  },
  {
   "cell_type": "code",
   "execution_count": 16,
   "id": "a2ed118a-a908-4dc7-bf6e-6375e2b43e37",
   "metadata": {},
   "outputs": [
    {
     "name": "stdout",
     "output_type": "stream",
     "text": [
      "Root:  1.1299804986507296 ; # of iterations :  24\n"
     ]
    }
   ],
   "source": [
    "#################################################\n",
    "####     Regula falsi to find root          ####\n",
    "#################################################\n",
    "import math\n",
    "### function\n",
    "def fn(x):\n",
    "    # return x**3+x-1\n",
    "    # return math.cos(x) - x\n",
    "    return math.exp(x)+math.sin(x)-4\n",
    "\n",
    "### interval (a, b) to find root\n",
    "a=0\n",
    "b=2\n",
    "\n",
    "iter=0       # iteration counter\n",
    "c=(a*fn(b)- b*fn(a) )/(fn(b) -fn(a))       # x-intercept \n",
    "\n",
    "fn_a=fn(a)\n",
    "fn_b=fn(b)\n",
    "fn_c=fn(c)\n",
    "\n",
    "if fn_a*fn_b > 0:    # condition for root \n",
    "    print('no roots')\n",
    "else:\n",
    "    while abs(fn_c) > 1.0e-12:\n",
    "        c=(a*fn(b)- b*fn(a))/(fn(b) -fn(a))       # x-intercept \n",
    "        fn_c=fn(c)\n",
    "        if fn_a*fn_c < 0:\n",
    "            b=c\n",
    "            fn_b=fn_c\n",
    "            fn_a=fn_a/2\n",
    "\n",
    "        else:\n",
    "            a=c\n",
    "            fn_a=fn_c\n",
    "            fn_b=fn_b/2\n",
    "               \n",
    "        iter=iter+1\n",
    "        \n",
    "print('Root: ', c,'; # of iterations : ',iter) "
   ]
  },
  {
   "cell_type": "markdown",
   "id": "65cf9eab-cbd8-4baf-a36d-90729697e0e2",
   "metadata": {},
   "source": [
    "## 4. Secant method"
   ]
  },
  {
   "cell_type": "code",
   "execution_count": 12,
   "id": "50ead7c1-cce3-4ddb-8f20-3c6b26c65748",
   "metadata": {},
   "outputs": [
    {
     "name": "stdout",
     "output_type": "stream",
     "text": [
      "Root:  0.6823278038280235 ; # of iterations :  9\n"
     ]
    }
   ],
   "source": [
    "#################################################\n",
    "####     Secant method to find root          ####\n",
    "#################################################\n",
    "### function\n",
    "def fn(x):\n",
    "    return x**3+x-1\n",
    "    \n",
    "### interval (a, b) to find root\n",
    "a=-2\n",
    "b=10\n",
    "\n",
    "iter=0       # iteration counter\n",
    "x0=2\n",
    "x1=5\n",
    "x2=(x0*fn(x1)- x1*fn(x0) )/(fn(x1) -fn(x0))       # x-intercept \n",
    "\n",
    "\n",
    "if fn(a)*fn(b) > 0:    # condition for root \n",
    "    print('no roots')\n",
    "\n",
    "else:\n",
    "    while abs(fn(x2)) > 1.0e-12:\n",
    "        x0=x1\n",
    "        x1=x2\n",
    "        x2=(x0*fn(x1)- x1*fn(x0) )/(fn(x1) -fn(x0))       # x-intercept \n",
    "        iter=iter+1\n",
    "\n",
    "print('Root: ', x2,'; # of iterations : ',iter) "
   ]
  },
  {
   "cell_type": "markdown",
   "id": "352b5018-73a0-47c9-8e72-07c1e83b275a",
   "metadata": {},
   "source": [
    "# Interpolation"
   ]
  },
  {
   "cell_type": "code",
   "execution_count": 18,
   "id": "6dade526-e3bc-45e1-8195-70a53d34f8a5",
   "metadata": {},
   "outputs": [
    {
     "data": {
      "text/plain": [
       "[<matplotlib.lines.Line2D at 0x72eb1af2d9f0>]"
      ]
     },
     "execution_count": 18,
     "metadata": {},
     "output_type": "execute_result"
    },
    {
     "data": {
      "image/png": "[encoded data removed]",
      "text/plain": [
       "<Figure size 640x480 with 1 Axes>"
      ]
     },
     "metadata": {},
     "output_type": "display_data"
    }
   ],
   "source": [
    "#################################################\n",
    "####         Lagrange polynomial            ####\n",
    "#################################################\n",
    "import numpy as np\n",
    "\n",
    "x1=1\n",
    "x2=2\n",
    "x3=3\n",
    "y1=1\n",
    "y2=4\n",
    "y3=9\n",
    "\n",
    "x=np.arange(0,2,0.01)\n",
    "poly=np.zeros(len(x))\n",
    "\n",
    "# for i in np.arange(3):\n",
    "poly= y1*(x-x2)*(x-x3)/((x1-x2)*(x1-x3)) + y2*(x-x1)*(x-x3)/((x2-x1)*(x2-x3)) + y3*(x-x1)*(x-x2)/((x3-x2)*(x3-x1))\n",
    "\n",
    "import matplotlib.pyplot as plt\n",
    "plt.plot(x,poly)"
   ]
  },
  {
   "cell_type": "code",
   "execution_count": null,
   "id": "09d95e61-99fe-4bec-a627-b44b0fcdcf99",
   "metadata": {},
   "outputs": [],
   "source": []
  }
 ],
 "metadata": {
  "kernelspec": {
   "display_name": "Python 3 (ipykernel)",
   "language": "python",
   "name": "python3"
  },
  "language_info": {
   "codemirror_mode": {
    "name": "ipython",
    "version": 3
   },
   "file_extension": ".py",
   "mimetype": "text/x-python",
   "name": "python",
   "nbconvert_exporter": "python",
   "pygments_lexer": "ipython3",
   "version": "3.10.12"
  }
 },
 "nbformat": 4,
 "nbformat_minor": 5
}
